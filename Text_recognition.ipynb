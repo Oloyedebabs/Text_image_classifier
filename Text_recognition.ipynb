{
  "nbformat": 4,
  "nbformat_minor": 0,
  "metadata": {
    "colab": {
      "provenance": [],
      "authorship_tag": "ABX9TyMARPR0VEO+80MPKD0c1Pbk",
      "include_colab_link": true
    },
    "kernelspec": {
      "name": "python3",
      "display_name": "Python 3"
    },
    "language_info": {
      "name": "python"
    }
  },
  "cells": [
    {
      "cell_type": "markdown",
      "metadata": {
        "id": "view-in-github",
        "colab_type": "text"
      },
      "source": [
        "<a href=\"https://colab.research.google.com/github/Oloyedebabs/Text_image_classifier/blob/main/Text_recognition.ipynb\" target=\"_parent\"><img src=\"https://colab.research.google.com/assets/colab-badge.svg\" alt=\"Open In Colab\"/></a>"
      ]
    },
    {
      "cell_type": "markdown",
      "source": [
        "#Import the necessary library"
      ],
      "metadata": {
        "id": "u5VPT5nNnyly"
      }
    },
    {
      "cell_type": "code",
      "source": [
        "import tensorflow as tf\n",
        "from tensorflow.keras import datasets, layers, models, optimizers\n",
        "import matplotlib.pyplot as plt"
      ],
      "metadata": {
        "id": "LAyl3ELln3ZG"
      },
      "execution_count": 1,
      "outputs": []
    },
    {
      "cell_type": "markdown",
      "source": [
        "##Load and do preprocessing of the MNIST dataset"
      ],
      "metadata": {
        "id": "Y-x0m92voBnH"
      }
    },
    {
      "cell_type": "code",
      "source": [
        "(X_train, y_train), (X_test, y_test) = datasets.mnist.load_data()"
      ],
      "metadata": {
        "colab": {
          "base_uri": "https://localhost:8080/"
        },
        "id": "vvGLlFrVoDos",
        "outputId": "716563f1-cb0a-4bc0-fac8-179b2a187eec"
      },
      "execution_count": 2,
      "outputs": [
        {
          "output_type": "stream",
          "name": "stdout",
          "text": [
            "Downloading data from https://storage.googleapis.com/tensorflow/tf-keras-datasets/mnist.npz\n",
            "\u001b[1m11490434/11490434\u001b[0m \u001b[32m━━━━━━━━━━━━━━━━━━━━\u001b[0m\u001b[37m\u001b[0m \u001b[1m0s\u001b[0m 0us/step\n"
          ]
        }
      ]
    },
    {
      "cell_type": "markdown",
      "source": [
        "Reshape the data the image is 28 x 28 pixel"
      ],
      "metadata": {
        "id": "n-ALzaj3oIEZ"
      }
    },
    {
      "cell_type": "code",
      "source": [
        "X_train = X_train.reshape((60000, 28, 28, 1))\n",
        "X_test = X_test.reshape((10000, 28,28, 1))"
      ],
      "metadata": {
        "id": "ioZyw-lmoLpv"
      },
      "execution_count": 3,
      "outputs": []
    },
    {
      "cell_type": "markdown",
      "source": [
        "Normalize the pixel value of the dataset to range 0 and 1 by dividing with 255 as image is in the grayscale"
      ],
      "metadata": {
        "id": "2F8JybX-oQGC"
      }
    },
    {
      "cell_type": "code",
      "source": [
        "X_train = X_train.astype('float32') / 255\n",
        "X_test = X_test.astype('float32') / 255"
      ],
      "metadata": {
        "id": "gpNbIBGnoTwb"
      },
      "execution_count": 4,
      "outputs": []
    },
    {
      "cell_type": "markdown",
      "source": [
        "One hot encode to convert the class vector to binary matrices"
      ],
      "metadata": {
        "id": "XVkYDJ3roYJU"
      }
    },
    {
      "cell_type": "code",
      "source": [
        "y_train = tf.keras.utils.to_categorical(y_train, 10)\n",
        "y_test = tf.keras.utils.to_categorical(y_test, 10)"
      ],
      "metadata": {
        "id": "GjPqC2VEoc6x"
      },
      "execution_count": 5,
      "outputs": []
    },
    {
      "cell_type": "markdown",
      "source": [
        "#Build the LeNet model"
      ],
      "metadata": {
        "id": "WiWN2ttIolPr"
      }
    },
    {
      "cell_type": "code",
      "source": [
        "def build_model(input_shape, classes):\n",
        "  model = models.Sequential()\n",
        "  #Add the first convolution layer with an out put of 20 and a 5 x 5 filter, use the ReLU activation. Then we will use a maxpooling ( 2 x 2)\n",
        "  model.add(layers.Conv2D(20, (5,5), activation='relu', input_shape=input_shape))\n",
        "  model.add(layers.MaxPooling2D(pool_size=(2,2), strides=(2,2)))\n",
        "  #Add a second convolution layer with a filter size of (5 x5) and ReLu activation, then maxpooling of 2 pixel\n",
        "  model.add(layers.Conv2D(50, (5,5), activation = 'relu'))\n",
        "  model.add(layers.MaxPooling2D(pool_size=(2,2), strides=(2,2)))\n",
        "  #Flatten the layer and build a network with dense layer of 500 neurons and using a softmax classifier.\n",
        "  model.add(layers.Flatten())\n",
        "  model.add(layers.Dense(500, activation='relu'))\n",
        "  #Use softmax activation for the output, the class represent the number of digit (0-10)\n",
        "  model.add(layers.Dense(classes, activation='softmax'))\n",
        "  return model"
      ],
      "metadata": {
        "id": "R4RHoPoJopqW"
      },
      "execution_count": 6,
      "outputs": []
    },
    {
      "cell_type": "markdown",
      "source": [
        "#Define parameter"
      ],
      "metadata": {
        "id": "cE7c12HzouDl"
      }
    },
    {
      "cell_type": "code",
      "source": [
        "epochs = 10\n",
        "#batch_size = 128\n",
        "#verbose = 1\n",
        "opti = tf.keras.optimizers.Adam()\n",
        "#validation_split = 0.95\n",
        "#IMG_ROWS, IMG_COLS = 28, 28\n",
        "#INPUT_SHAPE = (IMG_ROWS, IMG_COLS, 1)\n",
        "num_classes = 10"
      ],
      "metadata": {
        "id": "i8Dpavkrpgq_"
      },
      "execution_count": 7,
      "outputs": []
    },
    {
      "cell_type": "markdown",
      "source": [
        "#Initialize the model"
      ],
      "metadata": {
        "id": "5hcEvG_mpmCe"
      }
    },
    {
      "cell_type": "code",
      "source": [
        "model = build_model(input_shape = (28,28,1), classes = num_classes)"
      ],
      "metadata": {
        "colab": {
          "base_uri": "https://localhost:8080/"
        },
        "id": "vlrWuDJwpxTF",
        "outputId": "a48dacee-11c8-4dd9-9ad2-afd1fb1490aa"
      },
      "execution_count": 8,
      "outputs": [
        {
          "output_type": "stream",
          "name": "stderr",
          "text": [
            "/usr/local/lib/python3.10/dist-packages/keras/src/layers/convolutional/base_conv.py:107: UserWarning: Do not pass an `input_shape`/`input_dim` argument to a layer. When using Sequential models, prefer using an `Input(shape)` object as the first layer in the model instead.\n",
            "  super().__init__(activity_regularizer=activity_regularizer, **kwargs)\n"
          ]
        }
      ]
    },
    {
      "cell_type": "markdown",
      "source": [
        "#Compile the model"
      ],
      "metadata": {
        "id": "l_OxHaa-p5iS"
      }
    },
    {
      "cell_type": "code",
      "source": [
        "model.compile(loss = \"categorical_crossentropy\", optimizer = opti, metrics =[\"accuracy\"] )\n",
        "model.summary"
      ],
      "metadata": {
        "colab": {
          "base_uri": "https://localhost:8080/",
          "height": 204
        },
        "id": "Z9YmWyibrHeq",
        "outputId": "22a7884f-c6d7-4fd6-b8ee-a1dead550bed"
      },
      "execution_count": 9,
      "outputs": [
        {
          "output_type": "execute_result",
          "data": {
            "text/plain": [
              "<bound method Model.summary of <Sequential name=sequential, built=True>>"
            ],
            "text/html": [
              "<div style=\"max-width:800px; border: 1px solid var(--colab-border-color);\"><style>\n",
              "      pre.function-repr-contents {\n",
              "        overflow-x: auto;\n",
              "        padding: 8px 12px;\n",
              "        max-height: 500px;\n",
              "      }\n",
              "\n",
              "      pre.function-repr-contents.function-repr-contents-collapsed {\n",
              "        cursor: pointer;\n",
              "        max-height: 100px;\n",
              "      }\n",
              "    </style>\n",
              "    <pre style=\"white-space: initial; background:\n",
              "         var(--colab-secondary-surface-color); padding: 8px 12px;\n",
              "         border-bottom: 1px solid var(--colab-border-color);\"><b>keras.src.models.model.Model.summary</b><br/>def summary(line_length=None, positions=None, print_fn=None, expand_nested=False, show_trainable=False, layer_range=None)</pre><pre class=\"function-repr-contents function-repr-contents-collapsed\" style=\"\"><a class=\"filepath\" style=\"display:none\" href=\"#\">/usr/local/lib/python3.10/dist-packages/keras/src/models/model.py</a>Prints a string summary of the network.\n",
              "\n",
              "Args:\n",
              "    line_length: Total length of printed lines\n",
              "        (e.g. set this to adapt the display to different\n",
              "        terminal window sizes).\n",
              "    positions: Relative or absolute positions of log elements\n",
              "        in each line. If not provided, becomes\n",
              "        `[0.3, 0.6, 0.70, 1.]`. Defaults to `None`.\n",
              "    print_fn: Print function to use. By default, prints to `stdout`.\n",
              "        If `stdout` doesn&#x27;t work in your environment, change to `print`.\n",
              "        It will be called on each line of the summary.\n",
              "        You can set it to a custom function\n",
              "        in order to capture the string summary.\n",
              "    expand_nested: Whether to expand the nested models.\n",
              "        Defaults to `False`.\n",
              "    show_trainable: Whether to show if a layer is trainable.\n",
              "        Defaults to `False`.\n",
              "    layer_range: a list or tuple of 2 strings,\n",
              "        which is the starting layer name and ending layer name\n",
              "        (both inclusive) indicating the range of layers to be printed\n",
              "        in summary. It also accepts regex patterns instead of exact\n",
              "        names. In this case, the start predicate will be\n",
              "        the first element that matches `layer_range[0]`\n",
              "        and the end predicate will be the last element\n",
              "        that matches `layer_range[1]`.\n",
              "        By default `None` considers all layers of the model.\n",
              "\n",
              "Raises:\n",
              "    ValueError: if `summary()` is called before the model is built.</pre>\n",
              "      <script>\n",
              "      if (google.colab.kernel.accessAllowed && google.colab.files && google.colab.files.view) {\n",
              "        for (const element of document.querySelectorAll('.filepath')) {\n",
              "          element.style.display = 'block'\n",
              "          element.onclick = (event) => {\n",
              "            event.preventDefault();\n",
              "            event.stopPropagation();\n",
              "            google.colab.files.view(element.textContent, 216);\n",
              "          };\n",
              "        }\n",
              "      }\n",
              "      for (const element of document.querySelectorAll('.function-repr-contents')) {\n",
              "        element.onclick = (event) => {\n",
              "          event.preventDefault();\n",
              "          event.stopPropagation();\n",
              "          element.classList.toggle('function-repr-contents-collapsed');\n",
              "        };\n",
              "      }\n",
              "      </script>\n",
              "      </div>"
            ]
          },
          "metadata": {},
          "execution_count": 9
        }
      ]
    },
    {
      "cell_type": "markdown",
      "source": [
        "#Fit the model"
      ],
      "metadata": {
        "id": "D88NIkQ9rOON"
      }
    },
    {
      "cell_type": "markdown",
      "source": [
        "During compiling we can have some customizatiion such as call back that can allow to monitor and customize training. In this case we can stop training early once we have reached peak performance and log metrics. But I wont use it in this model."
      ],
      "metadata": {
        "id": "cbpKxEkurV0r"
      }
    },
    {
      "cell_type": "code",
      "source": [
        "curve = model.fit(X_train, y_train, batch_size = 128, epochs = 9, verbose = 1, validation_split = 0.95 )"
      ],
      "metadata": {
        "colab": {
          "base_uri": "https://localhost:8080/"
        },
        "id": "VJijI-tlrSSF",
        "outputId": "bf3f5ef9-f90a-47a7-ac98-6b2cd773ee6c"
      },
      "execution_count": 10,
      "outputs": [
        {
          "output_type": "stream",
          "name": "stdout",
          "text": [
            "Epoch 1/9\n",
            "\u001b[1m24/24\u001b[0m \u001b[32m━━━━━━━━━━━━━━━━━━━━\u001b[0m\u001b[37m\u001b[0m \u001b[1m11s\u001b[0m 432ms/step - accuracy: 0.4644 - loss: 1.7551 - val_accuracy: 0.8405 - val_loss: 0.4884\n",
            "Epoch 2/9\n",
            "\u001b[1m24/24\u001b[0m \u001b[32m━━━━━━━━━━━━━━━━━━━━\u001b[0m\u001b[37m\u001b[0m \u001b[1m10s\u001b[0m 412ms/step - accuracy: 0.8822 - loss: 0.4131 - val_accuracy: 0.9133 - val_loss: 0.2943\n",
            "Epoch 3/9\n",
            "\u001b[1m24/24\u001b[0m \u001b[32m━━━━━━━━━━━━━━━━━━━━\u001b[0m\u001b[37m\u001b[0m \u001b[1m10s\u001b[0m 414ms/step - accuracy: 0.9348 - loss: 0.2119 - val_accuracy: 0.9247 - val_loss: 0.2331\n",
            "Epoch 4/9\n",
            "\u001b[1m24/24\u001b[0m \u001b[32m━━━━━━━━━━━━━━━━━━━━\u001b[0m\u001b[37m\u001b[0m \u001b[1m10s\u001b[0m 423ms/step - accuracy: 0.9544 - loss: 0.1639 - val_accuracy: 0.9404 - val_loss: 0.1872\n",
            "Epoch 5/9\n",
            "\u001b[1m24/24\u001b[0m \u001b[32m━━━━━━━━━━━━━━━━━━━━\u001b[0m\u001b[37m\u001b[0m \u001b[1m9s\u001b[0m 399ms/step - accuracy: 0.9600 - loss: 0.1327 - val_accuracy: 0.9410 - val_loss: 0.1886\n",
            "Epoch 6/9\n",
            "\u001b[1m24/24\u001b[0m \u001b[32m━━━━━━━━━━━━━━━━━━━━\u001b[0m\u001b[37m\u001b[0m \u001b[1m9s\u001b[0m 392ms/step - accuracy: 0.9712 - loss: 0.1000 - val_accuracy: 0.9567 - val_loss: 0.1414\n",
            "Epoch 7/9\n",
            "\u001b[1m24/24\u001b[0m \u001b[32m━━━━━━━━━━━━━━━━━━━━\u001b[0m\u001b[37m\u001b[0m \u001b[1m9s\u001b[0m 409ms/step - accuracy: 0.9827 - loss: 0.0689 - val_accuracy: 0.9498 - val_loss: 0.1581\n",
            "Epoch 8/9\n",
            "\u001b[1m24/24\u001b[0m \u001b[32m━━━━━━━━━━━━━━━━━━━━\u001b[0m\u001b[37m\u001b[0m \u001b[1m10s\u001b[0m 411ms/step - accuracy: 0.9837 - loss: 0.0620 - val_accuracy: 0.9616 - val_loss: 0.1247\n",
            "Epoch 9/9\n",
            "\u001b[1m24/24\u001b[0m \u001b[32m━━━━━━━━━━━━━━━━━━━━\u001b[0m\u001b[37m\u001b[0m \u001b[1m10s\u001b[0m 411ms/step - accuracy: 0.9936 - loss: 0.0364 - val_accuracy: 0.9639 - val_loss: 0.1179\n"
          ]
        }
      ]
    },
    {
      "cell_type": "markdown",
      "source": [
        "My model performance starts to degrade after the 9th training epoch, there are options here. First is to run the model again with 9 training epochs (my preferred approach), use early stopping or a callback approach (from tensorflow.keras.callbacks import ModelCheckpoint) then checkpoint = ModelCheckpoint('best_model.h5', monitor='val_accuracy', save_best_only=True) finally model.fit(X_train, y_train, batch_size = 128, epochs = 10, verbose = 1, validation_split = 0.95, callbacks=[checkpoint] )"
      ],
      "metadata": {
        "id": "DlV9J2_lsCtQ"
      }
    },
    {
      "cell_type": "markdown",
      "source": [
        "#Predict model"
      ],
      "metadata": {
        "id": "-80jDyJgsQaP"
      }
    },
    {
      "cell_type": "code",
      "source": [
        "y_hat = model.predict(X_test)"
      ],
      "metadata": {
        "colab": {
          "base_uri": "https://localhost:8080/"
        },
        "id": "pdYFi2b_sWKo",
        "outputId": "b3d5314c-a5c6-4078-b993-c143b7154b86"
      },
      "execution_count": 11,
      "outputs": [
        {
          "output_type": "stream",
          "name": "stdout",
          "text": [
            "\u001b[1m313/313\u001b[0m \u001b[32m━━━━━━━━━━━━━━━━━━━━\u001b[0m\u001b[37m\u001b[0m \u001b[1m2s\u001b[0m 6ms/step\n"
          ]
        }
      ]
    },
    {
      "cell_type": "markdown",
      "source": [
        "#Evaluate model"
      ],
      "metadata": {
        "id": "rRM5LsoHsbk1"
      }
    },
    {
      "cell_type": "code",
      "source": [
        "eva = model.evaluate(X_test, y_test, verbose = 1)"
      ],
      "metadata": {
        "colab": {
          "base_uri": "https://localhost:8080/"
        },
        "id": "uR5jvrrlslXs",
        "outputId": "7afd5bd2-0d42-462a-c397-47d30e742729"
      },
      "execution_count": 12,
      "outputs": [
        {
          "output_type": "stream",
          "name": "stdout",
          "text": [
            "\u001b[1m313/313\u001b[0m \u001b[32m━━━━━━━━━━━━━━━━━━━━\u001b[0m\u001b[37m\u001b[0m \u001b[1m2s\u001b[0m 6ms/step - accuracy: 0.9645 - loss: 0.1157\n"
          ]
        }
      ]
    },
    {
      "cell_type": "markdown",
      "source": [
        "#print test score and test accuracy"
      ],
      "metadata": {
        "id": "U9TcHGBzs1SH"
      }
    },
    {
      "cell_type": "code",
      "source": [
        "print(\"\\nTest score:\", eva[0])\n",
        "print('Test accuracy', eva[1])"
      ],
      "metadata": {
        "colab": {
          "base_uri": "https://localhost:8080/"
        },
        "id": "hxwOeZu-s93E",
        "outputId": "5b26b0d2-ae7e-4975-fe3f-b613d4b2907d"
      },
      "execution_count": 13,
      "outputs": [
        {
          "output_type": "stream",
          "name": "stdout",
          "text": [
            "\n",
            "Test score: 0.09981730580329895\n",
            "Test accuracy 0.9700999855995178\n"
          ]
        }
      ]
    },
    {
      "cell_type": "markdown",
      "source": [
        "#Plot the training history curve"
      ],
      "metadata": {
        "id": "fW2W6bEltGl0"
      }
    },
    {
      "cell_type": "code",
      "source": [
        "plt.plot(curve.history['accuracy'])\n",
        "plt.plot(curve.history['val_accuracy'])\n",
        "plt.title('Model accuracy')\n",
        "plt.ylabel('Accuracy')\n",
        "plt.xlabel('Epoch')\n",
        "plt.legend(['Train', 'Validation'], loc='upper left')\n",
        "plt.show()"
      ],
      "metadata": {
        "colab": {
          "base_uri": "https://localhost:8080/",
          "height": 472
        },
        "id": "1fg42zOvtKXf",
        "outputId": "2286c550-0351-4e66-9673-8247249ea7d0"
      },
      "execution_count": 15,
      "outputs": [
        {
          "output_type": "display_data",
          "data": {
            "text/plain": [
              "<Figure size 640x480 with 1 Axes>"
            ],
            "image/png": "[encoded data removed]"
          },
          "metadata": {}
        }
      ]
    },
    {
      "cell_type": "markdown",
      "source": [
        "#Plotting the training and validation loss"
      ],
      "metadata": {
        "id": "gB8x2G63vawj"
      }
    },
    {
      "cell_type": "code",
      "source": [
        "#plt.subplot(1, 2, 2)\n",
        "plt.plot(curve.history['loss'], label='Training Loss')\n",
        "plt.plot(curve.history['val_loss'], label='Validation Loss')\n",
        "plt.title('Loss over Epochs')\n",
        "plt.xlabel('Epochs')\n",
        "plt.ylabel('Loss')\n",
        "plt.legend()\n",
        "\n",
        "plt.tight_layout()\n",
        "plt.show()"
      ],
      "metadata": {
        "colab": {
          "base_uri": "https://localhost:8080/",
          "height": 487
        },
        "id": "zJidliVsvfSF",
        "outputId": "7a97705c-978e-4955-8f4d-8fbd65b9039c"
      },
      "execution_count": 17,
      "outputs": [
        {
          "output_type": "display_data",
          "data": {
            "text/plain": [
              "<Figure size 640x480 with 1 Axes>"
            ],
            "image/png": "[encoded data removed]"
          },
          "metadata": {}
        }
      ]
    },
    {
      "cell_type": "markdown",
      "source": [
        "#Display a few random images from the test dataset along with their predicted labels."
      ],
      "metadata": {
        "id": "NDn8rtiawJ2L"
      }
    },
    {
      "cell_type": "code",
      "source": [
        "import numpy as np"
      ],
      "metadata": {
        "id": "SE33DgbzwLVa"
      },
      "execution_count": 18,
      "outputs": []
    },
    {
      "cell_type": "code",
      "source": [
        "def plot_sample_predictions(model, X_test, y_test):\n",
        "    # Randomly select 10 images from the test set\n",
        "    num_images = 10\n",
        "    random_indices = np.random.choice(X_test.shape[0], num_images, replace=False)\n",
        "\n",
        "    X_sample = X_test[random_indices]\n",
        "    y_true = np.argmax(y_test[random_indices], axis=1)  # Convert one-hot to class labels\n",
        "\n",
        "    # Predict labels for the selected sample\n",
        "    y_pred = np.argmax(model.predict(X_sample), axis=1)\n",
        "    # Plot the images with the true and predicted labels\n",
        "    plt.figure(figsize=(15, 3))\n",
        "    for i in range(num_images):\n",
        "        plt.subplot(1, num_images, i + 1)\n",
        "        plt.imshow(X_sample[i].squeeze(), cmap='gray')  # Squeeze to remove extra dimension\n",
        "        plt.title(f'True: {y_true[i]}\\nPred: {y_pred[i]}')\n",
        "        plt.axis('off')\n",
        "    plt.show()"
      ],
      "metadata": {
        "id": "3G_2H2N0w5ZQ"
      },
      "execution_count": 20,
      "outputs": []
    },
    {
      "cell_type": "markdown",
      "source": [
        "#Plot the image with prediction"
      ],
      "metadata": {
        "id": "7Cg6U-x2xdox"
      }
    },
    {
      "cell_type": "code",
      "source": [
        "plot_sample_predictions(model, X_test, y_test)"
      ],
      "metadata": {
        "colab": {
          "base_uri": "https://localhost:8080/",
          "height": 196
        },
        "id": "oECNqrA9xhcS",
        "outputId": "0304e777-2efe-4290-ed8f-7c4250b78d50"
      },
      "execution_count": 21,
      "outputs": [
        {
          "output_type": "stream",
          "name": "stdout",
          "text": [
            "\u001b[1m1/1\u001b[0m \u001b[32m━━━━━━━━━━━━━━━━━━━━\u001b[0m\u001b[37m\u001b[0m \u001b[1m0s\u001b[0m 20ms/step\n"
          ]
        },
        {
          "output_type": "display_data",
          "data": {
            "text/plain": [
              "<Figure size 1500x300 with 10 Axes>"
            ],
            "image/png": "[encoded data removed]"
          },
          "metadata": {}
        }
      ]
    },
    {
      "cell_type": "markdown",
      "source": [
        "#Save model"
      ],
      "metadata": {
        "id": "rRXmFqHE0uA0"
      }
    },
    {
      "cell_type": "code",
      "source": [
        "model.save('image_prediction.h5')"
      ],
      "metadata": {
        "colab": {
          "base_uri": "https://localhost:8080/"
        },
        "id": "LIq2MfcN0sZi",
        "outputId": "3f7eeca0-40bc-4c29-ed33-b410b3138b92"
      },
      "execution_count": 22,
      "outputs": [
        {
          "output_type": "stream",
          "name": "stderr",
          "text": [
            "WARNING:absl:You are saving your model as an HDF5 file via `model.save()` or `keras.saving.save_model(model)`. This file format is considered legacy. We recommend using instead the native Keras format, e.g. `model.save('my_model.keras')` or `keras.saving.save_model(model, 'my_model.keras')`. \n"
          ]
        }
      ]
    }
  ]
}